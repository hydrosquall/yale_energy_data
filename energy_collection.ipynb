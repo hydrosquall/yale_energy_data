{
 "cells": [
  {
   "cell_type": "code",
   "execution_count": null,
   "metadata": {
    "collapsed": false
   },
   "outputs": [],
   "source": [
    "# Get the raw data\n",
    "\n",
    "import requests\n",
    "import json\n",
    "import urllib\n",
    "import time\n",
    "\n",
    "DELAY = .3\n",
    "\n",
    "# Get a new cookie\n",
    "# cookie = \"JSESSIONID=0BB340526A27CDF4172FA2B1CA513D20; __utma=234137865.959903199.1451684769.1451684769.1451684769.1; __utmb=234137865.2.9.1451684769; __utmc=234137865; __utmz=234137865.1451684769.1.1.utmcsr=(direct)|utmccn=(direct)|utmcmd=(none); __utmt=1\"\n",
    "cookie = \"JSESSIONID=F7C20B3F6C816AC563CC4501AFDA3B70; __utmt=1; __utma=234137865.937824931.1452907406.1452907406.1452907406.1; __utmb=234137865.9.9.1452907810629; __utmc=234137865; __utmz=234137865.1452907406.1.1.utmcsr=(direct)|utmccn=(direct)|utmcmd=(none)\"\n",
    "# Set headers\n",
    "headers = {\n",
    "    \"Accept\": \"*/*\",\n",
    "    \"Accept-Encoding\":\"gzip, deflate\",\n",
    "    \"Accept-Language\":\"en-US,en;q=0.8\",\n",
    "    \"Connection\":\"keep-alive\",\n",
    "    \"Content-Type\":\"application/x-www-form-urlencoded; charset=UTF-8\",\n",
    "    \"Cookie\": cookie,\n",
    "    \"Host\":\"java.facilities.yale.edu\",\n",
    "    \"Origin\":\"http://java.facilities.yale.edu\",\n",
    "    \"Referer\":\"http://java.facilities.yale.edu/energy/\",    \n",
    "    \"X-Requested-With\":\"XMLHttpRequest\"\n",
    "}\n",
    "\n",
    "endpoint = \"http://java.facilities.yale.edu/energy/jsonProvider.jsp\"\n",
    "\n",
    "def get_energy_data(buildingID):\n",
    "    lookup = {\n",
    "        \"facids\":[buildingID],\n",
    "        \"startDate\":\"2010-07-01T04:00:00.000Z\",\n",
    "        \"endDate\":\"2015-12-01T04:00:00.000Z\",\n",
    "        \"chartType\":\"OverallMonthly\",\n",
    "        \"calendarType\":0\n",
    "        }\n",
    "    lookup = json.dumps(lookup)\n",
    "    payload = {\n",
    "        \"action\": \"runUsageRequestJSON\",\n",
    "        \"usageRequest\": lookup\n",
    "    }\n",
    "    r = requests.post(endpoint, headers=headers, data=payload)\n",
    "    if r.status_code == 200:\n",
    "        return r.json()\n",
    "    else:\n",
    "        print(\"Server Error\")\n",
    "        return \"Failed\"\n",
    "    \n",
    "\n",
    "# Hardcoded list of buildings \"fac_ids\"- matches the Yale Map\n",
    "# Pulled from header of the Energy explorer page- add this script later\n",
    "A = ['1425', '3160', '1530', '1125', '2403', '1413', '1030', '2045', '2610', '1525', '2005', '2040', '0435', '2635', '2505', '2705', '2140', '2035', '1006', '1093', '1835', '1830', '1825', '1955', '1810', '2640', '2420', '1620', '1510', '2605', '2665', '1152', '1023', '1960', '1935', '1940', '2405', '2400', '1049', '1210', '2145', '2615', '1200', '2455', '2770', '0434', '2105', '1615', '1945', '1635', '1640', '1120', '1235', '1230', '1130', '1135', '1225', '1140', '1220', '1145', '1100', '0925', '1035', '2510', '1515', '1080', '1090', '1040', '1067', '2600', '2620', '1505', '1950', '2660', '1255', '1540', '1630', '2645', '2100', '1055', '2480', '2485', '2490', '1440', '1045', '2625', '2425', '1015', '1250', '0921', '0920', '0915', '0910', '0905', '0900', '0820', '0815', '0810', '0806', '0805', '0800', '0924', '1445', '1350', '2430', '1385', '1715', '1261', '2470', '1110', '1070', '2500', '2010', '1520', '1800', '1913', '1075', '2025', '1215', '1085', '0440', '2000', '2055', '1900', '2655', '1930', '1925', '1610', '1612', '1605', '1820', '2050', '1240', '2435', '2650', '2030', '1840', '1920', '1905', '1625', '1205', '2515', '2630', '1180', '2020', '2015', '1020', '1025', '1390', '2700', '2520', '1436', '2745', '2450', '2445', '2440', '2415', '1530', '1125', '3070', '2403', '1413', '1030', '2045', '2610', '1525', '2005', '2040', '0435', '2635', '3355', '3165', '3375', '2505', '2705', '2140', '2035', '1006', '1093', '1835', '1830', '1825', '3360', '3050', '1955', '1810', '3000', '2640', '3315', '2420', '1620', '1510', '2605', '2665', '3150', '1152', '1023', '1960', '1935', '1940', '2405', '2400', '1049', '1210', '2145', '2615', '3385', '3340', '3320', '1200', '3245', '2455', '2770', '0434', '2105', '1615', '1945', '1635', '1640', '1120', '1235', '1230', '1130', '1135', '1225', '1140', '1220', '1145', '3100', '1100', '3205', '3345', '0925', '1035', '2510', '1515', '1080', '1090', '1040', '1067', '3335', '3300', '3155', '2600', '3380', '2620', '1505', '1950', '2660', '3330', '1255', '3120', '3325', '1540', '1630', '2645', '2100', '3130', '3180', '1055', '2480', '2485', '2490', '1440', '1045', '2625', '2425', '1015', '3305', '1250', '0921', '0920', '0915', '0910', '0905', '0900', '0820', '0815', '0810', '0806', '0805', '0800', '0924', '1445', '1350', '2430', '1385', '1715', '1261', '2470', '1110', '1070', '2500', '2010', '1520', '1800', '1913', '1075', '2025', '1215', '1085', '0440', '3115', '3105', '3140', '3125', '3110', '2000', '2055', '1900', '2655', '1930', '1925', '1610', '1612', '1605', '3400', '1820', '3370', '3310', '2050', '1240', '2435', '2650', '2030', '1840', '1920', '1905', '1625', '1205', '2515', '2630', '1180', '3350', '2020', '2015', '1020', '1025', '1390', '3200', '2700', '2520', '1436', '2745', '2450', '2445', '2440', '2415', '3070', '3355', '3165', '3375', '3360', '3050', '3000', '3315', '3150', '3385', '3340', '3320', '3245', '3100', '3205', '3345', '3335', '3300', '3155', '3380', '3330', '3120', '3325', '3130', '3180', '3305', '3115', '3105', '3140', '3125', '3110', '3400', '3370', '3310', '3350', '3200', '4210', '4208', '4235', '4206', '4250', '4225', '4245', '4272', '4240', '4237', '4215', '4220', '4270', '4202', '4023', '3720', '3825', '4119', '2125', '2130', '0110', '0200', '0645', '2345', '2780', '3183', '3065', '1985', '2955', '2902', '3020', '3625', '2752', '2750', '2720', '2725', '2730', '2786', '3630', '3530', '3534', '3210', '3743', '4032', '1482', '2305', '2304', '0300', '1010', '1005', '1095', '2471', '3912', '0510', '0511', '0512', '0513', '0000', '0425', '4100', '4102', '4010', '1484', '1485', '1486', '1487', '3800', '3805', '3810', '0525', '0550', '1750', '3910', '3902', '1500', '3540', '2301', '4099', '3700', '0100', '4118', '3620', '4018', '0430', '4005', '2783', '4115', '0504', '0505', '0506', '0507', '0509', '0705', '0700', '0540', '0555', '0520', '0535', '0545', '3900', '4000', '2475', '0808', '1000', '0502', '0445', '0924', '3635', '4012', '0710', '3185', '0750', '3520', '3640', '0250', '3175', '1720', '1725', '1730', '3740', '4013', '2706', '4210', '4208', '4206', '4202', '4200', '0120', '0122', '0124', '0125', '1705', '0745', '0655', '3600', '3710', '4700', '1439', '1431', '2733', '2736', '2739', '2744', '2110', '2740', '2735', '1530', '2770', '2105', '1640', '0925', '1067', '2660', '1630', '1440', '1015', '1445', '1261', '2010', '1520', '1075', '0440', '2000', '2030', '1180', '2015', '1390', '2745', '2610', '0435', '2140', '1835', '1955', '1810', '2640', '1620', '2665', '1940', '1945', '1235', '1230', '1225', '1140', '1100', '1515', '1505', '1950', '1255', '2625', '1250', '1385', '1110', '1070', '1913', '2025', '1900', '1930', '2435', '1840', '1905', '1625', '1205', '2515', '2700', '1125', '1006', '1830', '1825', '1960', '2405', '1210', '1200', '2455', '0434', '1120', '1130', '1135', '1220', '1145', '2480', '2485', '2490', '2430', '1215', '1925', '1610', '1730', '1612', '1605', '1240', '1920', '2020', '1436', '2450', '2445', '2440', '2403', '1413', '0405', '2040', '2635', '2505', '2035', '0410', '2420', '2605', '2145', '2615', '0400', '1615', '2510', '2600', '2620', '2645', '2100', '2425', '1715', '2500', '1800', '1820', '2050', '2650', '2630', '2045', '2005', '2705', '1635', '1045', '2470', '2055', '2655', '2520', '4210', '4208', '4235', '4206', '4250', '4225', '4245', '4272', '4227', '4240', '4237', '4215', '4220', '4270', '4202', '1030', '1093', '1510', '1023', '1049', '1035', '1080', '1090', '1040', '1540', '1055', '1085', '1020', '1025', '3070', '3165', '3375', '3315', '3385', '3320', '3345', '3335', '3300', '3155', '3380', '3330', '3130', '3180', '3115', '3105', '3140', '3125', '3400', '3370', '3310', '3350', '3360', '3050', '3000', '3150', '3340', '3100', '3205', '3120', '3325', '3305', '3110', '3200']\n",
    "\n",
    "# There's a weird bug where arrays cut out somewhere over 300 items... until the reason for this is found, just chunk the results and blend later.\n",
    "d = {}\n",
    "d[0] = A[:200]\n",
    "d[1]= A[200:400]  \n",
    "d[2]= A[400:600]  \n",
    "d[3] = A[600:]  \n",
    "\n",
    "returned = {}\n",
    "for i in range(0,4):\n",
    "    dump = {}\n",
    "    file = \"datas_\" + str(i) + \".json\"\n",
    "    data = d[i]\n",
    "    \n",
    "    for j,item in enumerate(data):\n",
    "        print(\"Key {}: {}\".format(j, item))\n",
    "        dump[j] = get_energy_data(item)\n",
    "        time.sleep(DELAY)\n",
    "        \n",
    "    print(\"Writing {}\".format(file))\n",
    "    with open(file, 'w') as outfile:\n",
    "        json.dump(dump, outfile)\n",
    "        \n",
    "    "
   ]
  },
  {
   "cell_type": "code",
   "execution_count": 1,
   "metadata": {
    "collapsed": false
   },
   "outputs": [],
   "source": [
    "# import libraries for analysis and visualization \n",
    "import pandas as pd\n",
    "import matplotlib.pyplot as plt\n",
    "import seaborn as sns\n",
    "\n",
    " %matplotlib inline"
   ]
  },
  {
   "cell_type": "code",
   "execution_count": 43,
   "metadata": {
    "collapsed": false
   },
   "outputs": [
    {
     "name": "stdout",
     "output_type": "stream",
     "text": [
      "datas_0.json\n",
      "Loading datas_0.json\n",
      "200\n",
      "datas_1.json\n",
      "Loading datas_1.json\n",
      "200\n",
      "datas_2.json\n",
      "Loading datas_2.json\n",
      "200\n",
      "datas_3.json\n",
      "Loading datas_3.json\n",
      "119\n"
     ]
    }
   ],
   "source": [
    "# loop through the energy json files and combine them\n",
    "\n",
    "import json\n",
    "master = []\n",
    "\n",
    "\n",
    "# loop through files from 0 to 3\n",
    "for i in range(4):\n",
    "    filename = \"datas_{}.json\".format(i)\n",
    "    print(filename)\n",
    "    \n",
    "    with open(filename) as json_data:\n",
    "        d = json.load(json_data)\n",
    "        print(\"Loading \"+ filename)\n",
    "    \n",
    "    # Replace Key ID with facility ID\n",
    "    print(len(d.keys()))\n",
    "    \n",
    "    for key in d.keys():\n",
    "        facid = d[key][\"facids\"][0]\n",
    "        master.append(d[key])\n",
    "    \n",
    "\n",
    "with open(\"merged_datas.json\", \"w\") as outfile:\n",
    "    json.dump(master, outfile, sort_keys=True, indent=2,ensure_ascii=False)\n",
    "    \n",
    "## At this point, the whole \n",
    "        "
   ]
  },
  {
   "cell_type": "code",
   "execution_count": 44,
   "metadata": {
    "collapsed": false
   },
   "outputs": [
    {
     "name": "stdout",
     "output_type": "stream",
     "text": [
      "719\n"
     ]
    }
   ],
   "source": [
    "# Get proper size, should be 719 items - 2 powerplants and 717 buildings\n",
    "total_keys = len(master)\n",
    "print(total_keys)"
   ]
  },
  {
   "cell_type": "code",
   "execution_count": 69,
   "metadata": {
    "collapsed": false
   },
   "outputs": [
    {
     "name": "stdout",
     "output_type": "stream",
     "text": [
      "16\n",
      "Custom: 0\n",
      "Power Plants: 2\n",
      "Served By CPP: 155\n",
      "Served By CPP or SPP: 191\n",
      "Served By SPP: 36\n",
      "Served By WPP: 14\n",
      "Not Served by Yale Plants: 132\n",
      "Academic & Admin: Large: 22\n",
      "Academic & Admin: Medium: 36\n",
      "Academic & Admin: Small: 32\n",
      "Dormatory - Central: 27\n",
      "Library & Museum: 9\n",
      "West Campus: 15\n",
      "Wet Laboratories: 14\n",
      "YSM Laboratories: 22\n",
      "YSM Non Laboratories: 12\n",
      "719\n"
     ]
    }
   ],
   "source": [
    "# Clean up the user buildings array, includes the powerplants. Keys are FACIDs as strings\n",
    "# Data pulled from the upper text of the energy explorer site\n",
    "# Don't use the \"buildings.json\" file because it lacks gsf and nsf data.\n",
    "# gsf = gross square footage , nsf excludes wall and unoccupyable space.\n",
    "\n",
    "with open(\"user.json\") as json_data:\n",
    "        d = json.load(json_data)\n",
    "        \n",
    "buildings = d[\"sets\"]\n",
    "\n",
    "# Verify everything is in the keys array\n",
    "# print(d.keys())\n",
    "\n",
    "print(len(buildings))\n",
    "\n",
    "count = 0\n",
    "thingc = 0\n",
    "\n",
    "\n",
    "new_buildings = []\n",
    "\n",
    "for thing in buildings:\n",
    "    building_category = thing[\"bsName\"]\n",
    "    print(\"{}: {}\").format(building_category, len(thing[\"buildings\"]))\n",
    "    \n",
    "    \n",
    "    for building in thing[\"buildings\"]:\n",
    "        copy = building\n",
    "        \n",
    "        # FacilityID is the key, not building ID\n",
    "        key = building[\"facid\"]\n",
    "        copy[\"category\"] = building_category\n",
    "        \n",
    "        new_buildings.append(copy)\n",
    "        \n",
    "        count += 1\n",
    "        \n",
    "print(len(new_buildings))\n",
    "\n",
    "with open(\"clean_buildings.json\", \"w\") as outfile:\n",
    "    json.dump(new_buildings, outfile, sort_keys=True, indent=4,ensure_ascii=False)"
   ]
  },
  {
   "cell_type": "code",
   "execution_count": 85,
   "metadata": {
    "collapsed": false,
    "scrolled": true
   },
   "outputs": [
    {
     "name": "stdout",
     "output_type": "stream",
     "text": [
      "719\n",
      "160301\n"
     ]
    }
   ],
   "source": [
    "# Clean the merged_data file\n",
    "\n",
    "with open(\"merged_datas.json\") as json_data:\n",
    "        d = json.load(json_data)\n",
    "        \n",
    "print(len(d))\n",
    "\n",
    "\n",
    "clean_records = []\n",
    "\n",
    "# clean up each time series\n",
    "for building in d:\n",
    "    facid = building[\"facids\"][0]\n",
    "    \n",
    "    # there is a series for each datatype for that building\n",
    "    chunks = building[\"series\"] # this is a list.\n",
    "    \n",
    "    # For each dictionary in the list\n",
    "    for chunk in chunks:\n",
    "        energy_type = chunk[\"label\"]\n",
    "        \n",
    "        # filter out just the keys you want\n",
    "        for child in chunk[\"children\"]:\n",
    "            entry = {}\n",
    "            entry[\"value\"] = child[\"value\"]\n",
    "            # note that id and label are invalid dates bc some report 2016. use \"when\"\n",
    "            entry[\"date\"] = child[\"when\"]\n",
    "            entry[\"type\"] = energy_type\n",
    "            entry[\"building\"] = facid\n",
    "            # Use get since sometimes the unit is omitted\n",
    "            entry[\"unit\"] = child.get(\"unit\")\n",
    "            \n",
    "            \n",
    "            clean_records.append(entry)\n",
    "            \n",
    "    \n",
    "print(len(clean_records))"
   ]
  },
  {
   "cell_type": "code",
   "execution_count": 86,
   "metadata": {
    "collapsed": false
   },
   "outputs": [
    {
     "data": {
      "text/plain": [
       "building     object\n",
       "date         object\n",
       "type         object\n",
       "unit         object\n",
       "value       float64\n",
       "dtype: object"
      ]
     },
     "execution_count": 86,
     "metadata": {},
     "output_type": "execute_result"
    }
   ],
   "source": [
    "df = pd.DataFrame(clean_records)\n",
    "\n",
    "df.head()\n",
    "\n",
    "df.dtypes"
   ]
  },
  {
   "cell_type": "code",
   "execution_count": 87,
   "metadata": {
    "collapsed": true
   },
   "outputs": [],
   "source": [
    "# Write out all energy usage data\n",
    "df.to_csv('buildings_data.csv')"
   ]
  },
  {
   "cell_type": "code",
   "execution_count": 84,
   "metadata": {
    "collapsed": false
   },
   "outputs": [],
   "source": [
    "# Write out the building stats data\n",
    "\n",
    "all_buildings = []\n",
    "\n",
    "for item in new_buildings:\n",
    "    all_buildings.append(item)\n",
    "\n",
    "\n",
    "df2 = pd.DataFrame(all_buildings)\n",
    "\n",
    "df2.head()\n",
    "\n",
    "df2.to_csv('buildings_demographics.csv')"
   ]
  },
  {
   "cell_type": "code",
   "execution_count": null,
   "metadata": {
    "collapsed": true
   },
   "outputs": [],
   "source": [
    "# TODO: Add documentation on what every field means\n",
    "# TODO: Add documentation on what every field means - use df.dtypes"
   ]
  }
 ],
 "metadata": {
  "kernelspec": {
   "display_name": "Python 3",
   "language": "python",
   "name": "python3"
  },
  "language_info": {
   "codemirror_mode": {
    "name": "ipython",
    "version": 3
   },
   "file_extension": ".py",
   "mimetype": "text/x-python",
   "name": "python",
   "nbconvert_exporter": "python",
   "pygments_lexer": "ipython3",
   "version": "3.5.1"
  }
 },
 "nbformat": 4,
 "nbformat_minor": 0
}
